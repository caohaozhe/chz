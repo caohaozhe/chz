{
 "cells": [
  {
   "cell_type": "code",
   "execution_count": 1,
   "metadata": {},
   "outputs": [],
   "source": [
    "import numpy as np\n",
    "import pandas as pd\n",
    "import matplotlib.pyplot as plt\n",
    "import seaborn as sns\n",
    "import warnings\n",
    "warnings.filterwarnings('ignore')\n",
    "pd.set_option('display.max_columns',18)"
   ]
  },
  {
   "cell_type": "markdown",
   "metadata": {},
   "source": [
    "1.读入数据"
   ]
  },
  {
   "cell_type": "code",
   "execution_count": 2,
   "metadata": {},
   "outputs": [
    {
     "data": {
      "text/html": [
       "<div>\n",
       "<style scoped>\n",
       "    .dataframe tbody tr th:only-of-type {\n",
       "        vertical-align: middle;\n",
       "    }\n",
       "\n",
       "    .dataframe tbody tr th {\n",
       "        vertical-align: top;\n",
       "    }\n",
       "\n",
       "    .dataframe thead th {\n",
       "        text-align: right;\n",
       "    }\n",
       "</style>\n",
       "<table border=\"1\" class=\"dataframe\">\n",
       "  <thead>\n",
       "    <tr style=\"text-align: right;\">\n",
       "      <th></th>\n",
       "      <th>ID</th>\n",
       "      <th>Region</th>\n",
       "      <th>Date</th>\n",
       "      <th>Weekday</th>\n",
       "      <th>Apartment</th>\n",
       "      <th>Beds</th>\n",
       "      <th>Review</th>\n",
       "      <th>Pic Quality</th>\n",
       "      <th>Price</th>\n",
       "      <th>Accept</th>\n",
       "    </tr>\n",
       "  </thead>\n",
       "  <tbody>\n",
       "    <tr>\n",
       "      <th>0</th>\n",
       "      <td>1</td>\n",
       "      <td>4</td>\n",
       "      <td>32</td>\n",
       "      <td>5</td>\n",
       "      <td>1</td>\n",
       "      <td>1</td>\n",
       "      <td>4.526975</td>\n",
       "      <td>0.739994</td>\n",
       "      <td>230.552998</td>\n",
       "      <td>0</td>\n",
       "    </tr>\n",
       "    <tr>\n",
       "      <th>1</th>\n",
       "      <td>2</td>\n",
       "      <td>2</td>\n",
       "      <td>87</td>\n",
       "      <td>4</td>\n",
       "      <td>1</td>\n",
       "      <td>1</td>\n",
       "      <td>4.548455</td>\n",
       "      <td>0.862642</td>\n",
       "      <td>348.203425</td>\n",
       "      <td>0</td>\n",
       "    </tr>\n",
       "    <tr>\n",
       "      <th>2</th>\n",
       "      <td>3</td>\n",
       "      <td>5</td>\n",
       "      <td>277</td>\n",
       "      <td>5</td>\n",
       "      <td>1</td>\n",
       "      <td>2</td>\n",
       "      <td>4.965732</td>\n",
       "      <td>0.515548</td>\n",
       "      <td>430.462327</td>\n",
       "      <td>0</td>\n",
       "    </tr>\n",
       "    <tr>\n",
       "      <th>3</th>\n",
       "      <td>4</td>\n",
       "      <td>3</td>\n",
       "      <td>246</td>\n",
       "      <td>2</td>\n",
       "      <td>1</td>\n",
       "      <td>1</td>\n",
       "      <td>4.752735</td>\n",
       "      <td>0.561547</td>\n",
       "      <td>149.305433</td>\n",
       "      <td>1</td>\n",
       "    </tr>\n",
       "    <tr>\n",
       "      <th>4</th>\n",
       "      <td>5</td>\n",
       "      <td>1</td>\n",
       "      <td>155</td>\n",
       "      <td>2</td>\n",
       "      <td>1</td>\n",
       "      <td>2</td>\n",
       "      <td>3.890960</td>\n",
       "      <td>0.817142</td>\n",
       "      <td>165.264184</td>\n",
       "      <td>1</td>\n",
       "    </tr>\n",
       "  </tbody>\n",
       "</table>\n",
       "</div>"
      ],
      "text/plain": [
       "   ID  Region  Date  Weekday  Apartment  Beds    Review  Pic Quality  \\\n",
       "0   1       4    32        5          1     1  4.526975     0.739994   \n",
       "1   2       2    87        4          1     1  4.548455     0.862642   \n",
       "2   3       5   277        5          1     2  4.965732     0.515548   \n",
       "3   4       3   246        2          1     1  4.752735     0.561547   \n",
       "4   5       1   155        2          1     2  3.890960     0.817142   \n",
       "\n",
       "        Price  Accept  \n",
       "0  230.552998       0  \n",
       "1  348.203425       0  \n",
       "2  430.462327       0  \n",
       "3  149.305433       1  \n",
       "4  165.264184       1  "
      ]
     },
     "execution_count": 2,
     "metadata": {},
     "output_type": "execute_result"
    }
   ],
   "source": [
    "#读入训练集数据\n",
    "train=pd.read_csv('case2_training.csv')\n",
    "train=train.copy()\n",
    "test = pd.read_csv(\"case2_testing.csv\")\n",
    "test=test.copy()\n",
    "train.head()"
   ]
  },
  {
   "cell_type": "markdown",
   "metadata": {},
   "source": [
    "2.描述性统计分析"
   ]
  },
  {
   "cell_type": "code",
   "execution_count": 3,
   "metadata": {},
   "outputs": [
    {
     "data": {
      "text/plain": [
       "((50000, 10), (20000, 9))"
      ]
     },
     "execution_count": 3,
     "metadata": {},
     "output_type": "execute_result"
    }
   ],
   "source": [
    "train.shape, test.shape"
   ]
  },
  {
   "cell_type": "code",
   "execution_count": 4,
   "metadata": {},
   "outputs": [
    {
     "data": {
      "text/plain": [
       "(Index(['ID', 'Region', 'Date', 'Weekday', 'Apartment', 'Beds', 'Review',\n",
       "        'Pic Quality', 'Price', 'Accept'],\n",
       "       dtype='object'),\n",
       " Index(['ID', 'Region', 'Date', 'Weekday', 'Apartment', 'Beds', 'Review',\n",
       "        'Pic Quality', 'Price'],\n",
       "       dtype='object'))"
      ]
     },
     "execution_count": 4,
     "metadata": {},
     "output_type": "execute_result"
    }
   ],
   "source": [
    "train.columns, test.columns"
   ]
  },
  {
   "cell_type": "code",
   "execution_count": 5,
   "metadata": {},
   "outputs": [
    {
     "name": "stdout",
     "output_type": "stream",
     "text": [
      "<class 'pandas.core.frame.DataFrame'>\n",
      "RangeIndex: 50000 entries, 0 to 49999\n",
      "Data columns (total 10 columns):\n",
      " #   Column       Non-Null Count  Dtype  \n",
      "---  ------       --------------  -----  \n",
      " 0   ID           50000 non-null  int64  \n",
      " 1   Region       50000 non-null  int64  \n",
      " 2   Date         50000 non-null  int64  \n",
      " 3   Weekday      50000 non-null  int64  \n",
      " 4   Apartment    50000 non-null  int64  \n",
      " 5   Beds         50000 non-null  int64  \n",
      " 6   Review       50000 non-null  float64\n",
      " 7   Pic Quality  50000 non-null  float64\n",
      " 8   Price        50000 non-null  float64\n",
      " 9   Accept       50000 non-null  int64  \n",
      "dtypes: float64(3), int64(7)\n",
      "memory usage: 3.8 MB\n"
     ]
    }
   ],
   "source": [
    "train.info()"
   ]
  },
  {
   "cell_type": "code",
   "execution_count": 6,
   "metadata": {},
   "outputs": [
    {
     "data": {
      "text/plain": [
       "0    0.72968\n",
       "1    0.27032\n",
       "Name: Accept, dtype: float64"
      ]
     },
     "execution_count": 6,
     "metadata": {},
     "output_type": "execute_result"
    }
   ],
   "source": [
    "train['Accept'].value_counts(normalize=True)"
   ]
  },
  {
   "cell_type": "code",
   "execution_count": 7,
   "metadata": {},
   "outputs": [
    {
     "data": {
      "text/plain": [
       "<AxesSubplot:>"
      ]
     },
     "execution_count": 7,
     "metadata": {},
     "output_type": "execute_result"
    },
    {
     "data": {
      "image/png": "[encoded data removed]",
      "text/plain": [
       "<Figure size 432x288 with 1 Axes>"
      ]
     },
     "metadata": {
      "needs_background": "light"
     },
     "output_type": "display_data"
    }
   ],
   "source": [
    "train['Accept'].value_counts().plot.bar()"
   ]
  },
  {
   "cell_type": "markdown",
   "metadata": {},
   "source": [
    "3.Independent Variable (Categorical)"
   ]
  },
  {
   "cell_type": "code",
   "execution_count": 8,
   "metadata": {},
   "outputs": [
    {
     "data": {
      "image/png": "[encoded data removed]",
      "text/plain": [
       "<Figure size 1440x720 with 4 Axes>"
      ]
     },
     "metadata": {
      "needs_background": "light"
     },
     "output_type": "display_data"
    }
   ],
   "source": [
    "# Visualizing categorical features\n",
    "# plt.figure(1)\n",
    "plt.subplot(231)\n",
    "train['Region'].value_counts(normalize=True).plot.bar(figsize=(20,10), title= 'Region')\n",
    "\n",
    "plt.subplot(232)\n",
    "train['Weekday'].value_counts(normalize=True).plot.bar(title= 'Weekday')\n",
    "\n",
    "plt.subplot(233)\n",
    "train['Apartment'].value_counts(normalize=True).plot.bar(title= 'Apartment')\n",
    "\n",
    "plt.subplot(234)\n",
    "train['Beds'].value_counts(normalize=True).plot.bar(title= 'Beds')\n",
    "\n",
    "plt.show()"
   ]
  },
  {
   "cell_type": "markdown",
   "metadata": {},
   "source": [
    "4.Independent Variable (Numerical)"
   ]
  },
  {
   "cell_type": "code",
   "execution_count": 9,
   "metadata": {},
   "outputs": [
    {
     "data": {
      "image/png": "[encoded data removed]",
      "text/plain": [
       "<Figure size 1152x360 with 2 Axes>"
      ]
     },
     "metadata": {
      "needs_background": "light"
     },
     "output_type": "display_data"
    }
   ],
   "source": [
    "plt.subplot(121)\n",
    "sns.distplot(train['Price']);\n",
    "\n",
    "plt.subplot(122)\n",
    "train['Price'].plot.box(figsize=(16,5))\n",
    "\n",
    "plt.show()"
   ]
  },
  {
   "cell_type": "markdown",
   "metadata": {},
   "source": [
    "标准化'Price'变量"
   ]
  },
  {
   "cell_type": "code",
   "execution_count": 10,
   "metadata": {},
   "outputs": [
    {
     "data": {
      "image/png": "[encoded data removed]",
      "text/plain": [
       "<Figure size 1152x360 with 2 Axes>"
      ]
     },
     "metadata": {
      "needs_background": "light"
     },
     "output_type": "display_data"
    }
   ],
   "source": [
    "#标准化'Price'变量\n",
    "train['normalized_price'] = (train['Price'] - train['Price'].mean()) / (train['Price'].std())\n",
    "# del train['Price']\n",
    "plt.subplot(121)\n",
    "sns.distplot(train['normalized_price']);\n",
    "plt.subplot(122)\n",
    "train['normalized_price'].plot.box(figsize=(16,5))\n",
    "plt.show()"
   ]
  },
  {
   "cell_type": "markdown",
   "metadata": {},
   "source": [
    "分类自变量与目标变量"
   ]
  },
  {
   "cell_type": "code",
   "execution_count": 11,
   "metadata": {},
   "outputs": [
    {
     "name": "stdout",
     "output_type": "stream",
     "text": [
      "Accept     0     1\n",
      "Region            \n",
      "1       3607  1326\n",
      "2       3589  1346\n",
      "3       3729  1422\n",
      "4       3657  1379\n",
      "5       3612  1340\n",
      "6       3724  1374\n",
      "7       3641  1336\n",
      "8       3628  1372\n",
      "9       3675  1319\n",
      "10      3622  1302\n"
     ]
    },
    {
     "data": {
      "image/png": "[encoded data removed]",
      "text/plain": [
       "<Figure size 288x288 with 1 Axes>"
      ]
     },
     "metadata": {
      "needs_background": "light"
     },
     "output_type": "display_data"
    }
   ],
   "source": [
    "#区域是否会对购买产生任何影响\n",
    "print(pd.crosstab(train['Region'],train['Accept']))\n",
    "\n",
    "Region = pd.crosstab(train['Region'],train['Accept'])\n",
    "Region.div(Region.sum(1).astype(float), axis = 0).plot(kind=\"bar\", stacked=True, figsize=(4,4))\n",
    "plt.xlabel('Region')\n",
    "p = plt.ylabel('Percentage')\n",
    "plt.show()"
   ]
  },
  {
   "cell_type": "code",
   "execution_count": 12,
   "metadata": {},
   "outputs": [
    {
     "name": "stdout",
     "output_type": "stream",
     "text": [
      "Accept         0      1\n",
      "Apartment              \n",
      "0           7230   2678\n",
      "1          29254  10838\n"
     ]
    },
    {
     "data": {
      "image/png": "[encoded data removed]",
      "text/plain": [
       "<Figure size 432x288 with 1 Axes>"
      ]
     },
     "metadata": {
      "needs_background": "light"
     },
     "output_type": "display_data"
    }
   ],
   "source": [
    "#Apartment是否会对购买产生任何影响\n",
    "print(pd.crosstab(train['Apartment'],train['Accept']))\n",
    "\n",
    "Apartment=pd.crosstab(train['Apartment'],train['Accept'])\n",
    "Apartment.div(Apartment.sum(1).astype(float), axis=0).plot(kind=\"bar\", stacked=True)\n",
    "plt.xlabel('Apartment')\n",
    "p = plt.ylabel('Percentage')\n",
    "plt.show()\n"
   ]
  },
  {
   "cell_type": "code",
   "execution_count": 13,
   "metadata": {},
   "outputs": [
    {
     "name": "stdout",
     "output_type": "stream",
     "text": [
      "Accept      0     1\n",
      "Beds               \n",
      "1       22149  8166\n",
      "2       11129  4113\n",
      "3        2719  1064\n",
      "4         487   173\n"
     ]
    },
    {
     "data": {
      "image/png": "[encoded data removed]",
      "text/plain": [
       "<Figure size 288x288 with 1 Axes>"
      ]
     },
     "metadata": {
      "needs_background": "light"
     },
     "output_type": "display_data"
    }
   ],
   "source": [
    "#Beds是否会对购买产生任何影响\n",
    "print(pd.crosstab(train['Beds'],train['Accept']))\n",
    "\n",
    "Self_Employed=pd.crosstab(train['Beds'],train['Accept'])\n",
    "Self_Employed.div(Self_Employed.sum(1).astype(float), axis=0).plot(kind=\"bar\", stacked=True, figsize=(4,4))\n",
    "plt.xlabel('Beds')\n",
    "p = plt.ylabel('Beds')\n",
    "plt.show()"
   ]
  },
  {
   "cell_type": "code",
   "execution_count": null,
   "metadata": {},
   "outputs": [],
   "source": [
    "#删去‘ID’变量\n",
    "del train['ID']\n",
    "#把日期（365天）归类转化为季度（1,2,3,4季度）\n",
    "def assign_label(h):\n",
    "    if h >=0 and h < 92:\n",
    "        return 1\n",
    "    elif h >= 92 and h <183:\n",
    "        return 2\n",
    "    elif h >=183 and h <275 :\n",
    "        return 3\n",
    "    elif h >= 275 and h < 366:\n",
    "        return 4\n",
    "\n",
    "train[\"date_label\"] = train[\"Date\"].apply(assign_label)\n",
    "del train['Date']\n",
    "\n",
    "#将周日到周四归为类别1，周五和周六归为类别2\n",
    "def assign_week(h):\n",
    "    if h >=0 and h < 5 or h>=7:\n",
    "        return 1\n",
    "    elif h >= 5 and h <7:\n",
    "        return 2\n",
    "\n",
    "train[\"week_label\"] = train[\"Weekday\"].apply(assign_week)\n",
    "del train['Weekday']\n",
    "#将原训练集里代表类别的特征‘Region’虚拟化处理\n",
    "dum=pd.get_dummies(train['Region'],prefix=\"Region\")\n",
    "train=pd.concat([train,dum],axis=1)\n",
    "del train['Region']\n",
    "\n",
    "#转换后的transform_train留作给不同的算法使用\n",
    "transform_train=train\n",
    "\n",
    "#显示特征转换后的前五行\n",
    "print(train.head())\n"
   ]
  },
  {
   "cell_type": "code",
   "execution_count": null,
   "metadata": {},
   "outputs": [],
   "source": [
    "#data是否会对购买产生任何影响\n",
    "print(pd.crosstab(train['date_label'],train['Accept']))\n",
    "\n",
    "date_label=pd.crosstab(train['date_label'],train['Accept'])\n",
    "date_label.div(date_label.sum(1).astype(float), axis=0).plot(kind=\"bar\", stacked=True)\n",
    "plt.xlabel('date_label')\n",
    "p = plt.ylabel('Percentage')\n",
    "plt.show()"
   ]
  },
  {
   "cell_type": "code",
   "execution_count": null,
   "metadata": {},
   "outputs": [],
   "source": [
    "#weekday是否会对购买产生任何影响\n",
    "print(pd.crosstab(train['week_label'],train['Accept']))\n",
    "\n",
    "week_label=pd.crosstab(train['week_label'],train['Accept'])\n",
    "week_label.div(week_label.sum(1).astype(float), axis=0).plot(kind=\"bar\", stacked=True)\n",
    "plt.xlabel('week_label')\n",
    "p = plt.ylabel('Percentage')\n",
    "plt.show()"
   ]
  },
  {
   "cell_type": "markdown",
   "metadata": {},
   "source": [
    "数值自变量与目标变量"
   ]
  },
  {
   "cell_type": "code",
   "execution_count": null,
   "metadata": {},
   "outputs": [],
   "source": [
    "print(train.groupby('Accept')['Price'].mean())\n",
    "\n",
    "train.groupby('Accept')['Price'].mean().plot.bar()"
   ]
  },
  {
   "cell_type": "code",
   "execution_count": null,
   "metadata": {},
   "outputs": [],
   "source": [
    "bins = [0,100,200,400,800]\n",
    "group = ['Low','Average','High', 'Very high']\n",
    "train['Price_bin'] = pd.cut(train['Price'],bins,labels=group)"
   ]
  },
  {
   "cell_type": "code",
   "execution_count": null,
   "metadata": {},
   "outputs": [],
   "source": [
    "train.head(8)"
   ]
  },
  {
   "cell_type": "code",
   "execution_count": null,
   "metadata": {},
   "outputs": [],
   "source": [
    "print(pd.crosstab(train['Price_bin'],train['Accept']))\n",
    "\n",
    "Price_bin = pd.crosstab(train['Price_bin'],train['Accept'])\n",
    "Price_bin.div(Price_bin.sum(1).astype(float), axis=0).plot(kind=\"bar\", stacked=True)\n",
    "plt.xlabel('Price_bin')\n",
    "P = plt.ylabel('Percentage')"
   ]
  },
  {
   "cell_type": "code",
   "execution_count": null,
   "metadata": {},
   "outputs": [],
   "source": [
    "bins = [0,3.5,4.5,5]\n",
    "group = ['Low','middle','High']\n",
    "train['Review_bin'] = pd.cut(train['Review'],bins,labels=group)"
   ]
  },
  {
   "cell_type": "code",
   "execution_count": null,
   "metadata": {},
   "outputs": [],
   "source": [
    "print(pd.crosstab(train['Review_bin'],train['Accept']))\n",
    "\n",
    "Review_bin = pd.crosstab(train['Review_bin'],train['Accept'])\n",
    "Review_bin.div(Review_bin.sum(1).astype(float), axis=0).plot(kind=\"bar\", stacked=True)\n",
    "plt.xlabel('Review_bin')\n",
    "P = plt.ylabel('Percentage')"
   ]
  },
  {
   "cell_type": "markdown",
   "metadata": {},
   "source": [
    "删除不必要的变量"
   ]
  },
  {
   "cell_type": "code",
   "execution_count": null,
   "metadata": {},
   "outputs": [],
   "source": [
    "train.head()"
   ]
  },
  {
   "cell_type": "code",
   "execution_count": null,
   "metadata": {},
   "outputs": [],
   "source": [
    "train = train.drop(['Price', 'Price_bin','Review_bin'],axis=1)"
   ]
  },
  {
   "cell_type": "code",
   "execution_count": null,
   "metadata": {},
   "outputs": [],
   "source": [
    "train.head()"
   ]
  },
  {
   "cell_type": "code",
   "execution_count": null,
   "metadata": {},
   "outputs": [],
   "source": [
    "train.shape"
   ]
  },
  {
   "cell_type": "markdown",
   "metadata": {},
   "source": [
    "用逻辑回归算法来训练模型"
   ]
  },
  {
   "cell_type": "code",
   "execution_count": null,
   "metadata": {},
   "outputs": [],
   "source": [
    "y = train['Accept']\n",
    "X = train.drop('Accept', 1)\n",
    "\n",
    "# adding dummies to the dataset\n",
    "X = pd.get_dummies(X)\n",
    "train = pd.get_dummies(train)\n",
    "test = pd.get_dummies(test)\n",
    "print(X.shape, train.shape, test.shape)\n",
    "print(X.head())\n",
    "\n",
    "from sklearn.model_selection import train_test_split\n",
    "# split the data into train and cross validation set\n",
    "x_train, x_cv, y_train, y_cv = train_test_split(X, y, test_size=0.3, random_state=0)\n",
    "# 2、使用SMOTE进行过采样\n",
    "# 导入相关的方法\n",
    "from imblearn.over_sampling import SMOTE\n",
    "# 调用方法进行过采样\n",
    "SMOTE = SMOTE()\n",
    "\n",
    "# 获得过采样后的样本\n",
    "x_train_SMOTE, y_train_SMOTE = SMOTE.fit_resample(x_train, y_train)\n",
    "\n",
    "# 统计过采样后的类别占比情况\n",
    "print(\"After oversampling: \",Counter(y_train_SMOTE))\n"
   ]
  },
  {
   "cell_type": "code",
   "execution_count": null,
   "metadata": {},
   "outputs": [],
   "source": [
    "from sklearn.linear_model import LogisticRegression\n",
    "from sklearn.metrics import accuracy_score\n",
    "\n",
    "model = LogisticRegression()\n",
    "model.fit(x_train_SMOTE, y_train_SMOTE)\n",
    "# 预测\n",
    "pred_cv = model.predict(x_cv)\n",
    "print('logistic预测准确率：',accuracy_score(y_cv, pred_cv))\n",
    "\n",
    "#输出混淆矩阵\n",
    "from sklearn.metrics import confusion_matrix\n",
    "\n",
    "cm = confusion_matrix(y_cv, pred_cv)\n",
    "print(cm)\n",
    "sns.heatmap(cm, annot=True, fmt=\"d\")\n",
    "plt.title('Confusion matrix of the classifier')\n",
    "plt.xlabel('Predicted')\n",
    "plt.ylabel('True')\n",
    "plt.show()\n",
    "\n",
    "from sklearn.metrics import classification_report\n",
    "print(classification_report(y_cv, pred_cv))"
   ]
  },
  {
   "cell_type": "markdown",
   "metadata": {},
   "source": [
    "k 折交叉验证的逻辑回归"
   ]
  },
  {
   "cell_type": "code",
   "execution_count": null,
   "metadata": {},
   "outputs": [],
   "source": [
    "from sklearn.model_selection import StratifiedKFold\n",
    "#k=5，且对数据的每个分层进行shuffle\n",
    "\n",
    "mean_accuracy = []\n",
    "i = 1\n",
    "kf = StratifiedKFold(n_splits=5, random_state=1, shuffle=True)\n",
    "\n",
    "for train_index, test_index in kf.split(x_train_SMOTE, y_train_SMOTE):\n",
    "    print('\\n{} of kfold {}'.format(i, kf.n_splits))\n",
    "    xtr, xvl = x_train_SMOTE.loc[train_index], x_train_SMOTE.loc[test_index]\n",
    "    ytr, yvl = y_train_SMOTE[train_index], y_train_SMOTE[test_index]\n",
    "\n",
    "    model1 = LogisticRegression(random_state=1)\n",
    "    model1.fit(xtr, ytr)\n",
    "    pred_test = model1.predict(xvl)\n",
    "    score = accuracy_score(yvl, pred_test)\n",
    "    mean_accuracy.append(score)\n",
    "    print('accuracy_score', score)\n",
    "    i+=1\n",
    "print(\"\\n LR Mean validation accuracy: \", sum(mean_accuracy)/len(mean_accuracy))"
   ]
  },
  {
   "cell_type": "markdown",
   "metadata": {},
   "source": [
    "Random Forest"
   ]
  },
  {
   "cell_type": "code",
   "execution_count": null,
   "metadata": {},
   "outputs": [],
   "source": [
    "from sklearn.ensemble import RandomForestClassifier\n",
    "mean_accuracy = []\n",
    "i=1\n",
    "kf = StratifiedKFold(n_splits=5,random_state=1,shuffle=True)\n",
    "for train_index, test_index in kf.split(x_train_SMOTE, y_train_SMOTE):\n",
    "    print('\\n{} of kfold {}'.format(i, kf.n_splits))\n",
    "    xtr, xvl = x_train_SMOTE.loc[train_index], x_train_SMOTE.loc[test_index]\n",
    "    ytr, yvl = y_train_SMOTE[train_index], y_train_SMOTE[test_index]\n",
    "\n",
    "    model = RandomForestClassifier(random_state=1, max_depth=10, n_estimators=500)\n",
    "    model.fit(xtr, ytr)\n",
    "    pred_test = model.predict(xvl)\n",
    "    score = accuracy_score(yvl,pred_test)\n",
    "    mean_accuracy.append(score)\n",
    "    print('accuracy_score',score)\n",
    "    i+=1\n",
    "\n",
    "print(\"\\n RF Mean validation accuracy: \", sum(mean_accuracy)/len(mean_accuracy))"
   ]
  },
  {
   "cell_type": "markdown",
   "metadata": {},
   "source": [
    "GridSearchCV"
   ]
  },
  {
   "cell_type": "code",
   "execution_count": null,
   "metadata": {},
   "outputs": [],
   "source": [
    "from sklearn.model_selection import GridSearchCV\n",
    "paramgrid1= {'max_depth': list(range(1, 30, 2)), 'n_estimators': list(range(100, 500, 50))}\n",
    "#默认3折交叉验证cv=3\n",
    "grid_search1 = GridSearchCV(RandomForestClassifier(random_state=1), paramgrid1)\n",
    "from sklearn.model_selection import train_test_split\n",
    "# x_train, x_cv, y_train, y_cv = train_test_split(X, y, test_size =0.3, random_state=1)\n",
    "grid_search1.fit(x_train_SMOTE, y_train_SMOTE)\n",
    "print(grid_search1.best_estimator_)\n"
   ]
  },
  {
   "cell_type": "code",
   "execution_count": null,
   "metadata": {},
   "outputs": [],
   "source": [
    "#优化后的k折验证\n",
    "mean_accuracy1 = []\n",
    "i=1\n",
    "kf = StratifiedKFold(n_splits=5,random_state=1,shuffle=True)\n",
    "for train_index,test_index in kf.split(X,y):\n",
    "    print('\\n{} of kfold {}'.format(i,kf.n_splits))\n",
    "    xtr,xvl = X.loc[train_index],X.loc[test_index]\n",
    "    ytr,yvl = y[train_index],y[test_index]\n",
    "\n",
    "    model = RandomForestClassifier(max_depth=13, n_estimators=81, random_state=1)\n",
    "    model.fit(xtr, ytr)\n",
    "    pred_test = model.predict(xvl)\n",
    "    score = accuracy_score(yvl,pred_test)\n",
    "    mean_accuracy1.append(score)\n",
    "    print('accuracy_score',score)\n",
    "    i+=1\n",
    "\n",
    "print(\"\\n RF-CV Mean validation accuracy: \", sum(mean_accuracy1)/len(mean_accuracy1))"
   ]
  },
  {
   "cell_type": "markdown",
   "metadata": {},
   "source": [
    "特征重要性"
   ]
  },
  {
   "cell_type": "code",
   "execution_count": null,
   "metadata": {},
   "outputs": [],
   "source": [
    "importances = pd.Series(model.feature_importances_, index=X.columns)\n",
    "importances.plot(kind='barh', figsize=(12,8))\n",
    "plt.show()"
   ]
  },
  {
   "cell_type": "markdown",
   "metadata": {},
   "source": [
    "XGBoost"
   ]
  },
  {
   "cell_type": "code",
   "execution_count": null,
   "metadata": {},
   "outputs": [],
   "source": [
    "from xgboost import XGBClassifier\n",
    "mean_accuracy = []\n",
    "i=1\n",
    "kf = StratifiedKFold(n_splits=5,random_state=1,shuffle=True)\n",
    "for train_index,test_index in kf.split(X,y):\n",
    "    print('\\n{} of kfold {}'.format(i,kf.n_splits))\n",
    "    xtr,xvl = X.loc[train_index],X.loc[test_index]\n",
    "    ytr,yvl = y[train_index],y[test_index]\n",
    "\n",
    "    model = XGBClassifier(random_state=1, n_estimators=50, max_depth=4,verbosity = 0)\n",
    "    model.fit(xtr, ytr)\n",
    "    pred_test = model.predict(xvl)\n",
    "    score = accuracy_score(yvl,pred_test)\n",
    "    mean_accuracy.append(score)\n",
    "    print('accuracy_score',score)\n",
    "    i+=1\n",
    "\n",
    "print(\"\\n XGBoost Mean validation accuracy: \", sum(mean_accuracy)/len(mean_accuracy))\n"
   ]
  },
  {
   "cell_type": "markdown",
   "metadata": {},
   "source": [
    "优参"
   ]
  },
  {
   "cell_type": "code",
   "execution_count": null,
   "metadata": {},
   "outputs": [],
   "source": [
    "paramgrid2 = {'max_depth': list(range(1, 20, 2)), 'n_estimators': list(range(1, 200, 20))}\n",
    "grid_search2 = GridSearchCV(XGBClassifier(random_state=1), paramgrid2)\n",
    "x_train, x_cv, y_train, y_cv = train_test_split(X, y, test_size =0.3, random_state=1)\n",
    "grid_search2.fit(x_train, y_train)\n",
    "print(grid_search2.best_estimator_)\n"
   ]
  },
  {
   "cell_type": "code",
   "execution_count": null,
   "metadata": {},
   "outputs": [],
   "source": [
    "#优参后k折\n",
    "mean_accuracy = []\n",
    "i=1\n",
    "kf = StratifiedKFold(n_splits=5,random_state=1,shuffle=True)\n",
    "for train_index,test_index in kf.split(X,y):\n",
    "    print('\\n{} of kfold {}'.format(i,kf.n_splits))\n",
    "    xtr,xvl = X.loc[train_index],X.loc[test_index]\n",
    "    ytr,yvl = y[train_index],y[test_index]\n",
    "\n",
    "    model = XGBClassifier(base_score=0.5, booster='gbtree', colsample_bylevel=1,\n",
    "                          colsample_bynode=1, colsample_bytree=1, enable_categorical=False,\n",
    "                          gamma=0, gpu_id=-1, importance_type=None,\n",
    "                          interaction_constraints='', learning_rate=0.300000012,\n",
    "                          max_delta_step=0, max_depth=1, min_child_weight=1,\n",
    "                          monotone_constraints='()', n_estimators=121, n_jobs=16,\n",
    "                          num_parallel_tree=1, predictor='auto', random_state=1,\n",
    "                          reg_alpha=0, reg_lambda=1, scale_pos_weight=1, subsample=1,\n",
    "                          tree_method='exact', validate_parameters=1, verbosity=None)\n",
    "    model.fit(xtr, ytr)\n",
    "    pred_test = model.predict(xvl)\n",
    "    score = accuracy_score(yvl,pred_test)\n",
    "    mean_accuracy.append(score)\n",
    "    print('accuracy_score',score)\n",
    "    i+=1\n",
    "\n",
    "print(\"\\n XG-CVMean validation accuracy: \", sum(mean_accuracy)/len(mean_accuracy))\n",
    "pred_test = model.predict(test)\n",
    "pred3 = model.predict_proba(test)[:,1]"
   ]
  },
  {
   "cell_type": "markdown",
   "metadata": {},
   "source": [
    "catboost"
   ]
  },
  {
   "cell_type": "code",
   "execution_count": null,
   "metadata": {},
   "outputs": [],
   "source": [
    "from catboost import CatBoostClassifier, Pool"
   ]
  },
  {
   "cell_type": "code",
   "execution_count": null,
   "metadata": {},
   "outputs": [],
   "source": [
    "mean_accuracy = []\n",
    "i=1\n",
    "kf = StratifiedKFold(n_splits=5,random_state=1,shuffle=True)\n",
    "for train_index,test_index in kf.split(X,y):\n",
    "    print('\\n{} of kfold {}'.format(i,kf.n_splits))\n",
    "    xtr,xvl = X.loc[train_index],X.loc[test_index]\n",
    "    ytr,yvl = y[train_index],y[test_index]\n",
    "\n",
    "    model = CatBoostClassifier(learning_rate=0.03)\n",
    "    model.fit(xtr, ytr)\n",
    "    pred_test = model.predict(xvl)\n",
    "    score = accuracy_score(yvl,pred_test)\n",
    "    mean_accuracy.append(score)\n",
    "    print('accuracy_score',score)\n",
    "    i+=1\n",
    "\n",
    "print(\"\\n CatBoost Mean validation accuracy: \", sum(mean_accuracy)/len(mean_accuracy))"
   ]
  },
  {
   "cell_type": "code",
   "execution_count": null,
   "metadata": {},
   "outputs": [],
   "source": [
    "# paramgrid2 = {'max_depth': list(range(1, 20, 2)), 'n_estimators': list(range(1, 200, 20))}\n",
    "# grid_search2 = GridSearchCV(XGBClassifier(random_state=1), paramgrid2)\n",
    "x_train, x_cv, y_train, y_cv = train_test_split(X, y, test_size =0.3, random_state=1)\n",
    "# grid_search2.fit(x_train, y_train)\n",
    "\n",
    "model = CatBoostClassifier()\n",
    "\n",
    "grid = {'learning_rate': [0.001,0.005,0.007,0.01],\n",
    "        'depth': [4, 6, 8,10],\n",
    "        'l2_leaf_reg': [1, 3]}\n",
    "\n",
    "randomized_search_result = model.randomized_search(grid,\n",
    "                                                   X=x_train,\n",
    "                                                   y=y_train,\n",
    "                                                   plot=True)\n"
   ]
  },
  {
   "cell_type": "code",
   "execution_count": null,
   "metadata": {},
   "outputs": [],
   "source": [
    "mean_accuracy = []\n",
    "i=1\n",
    "kf = StratifiedKFold(n_splits=5,random_state=1,shuffle=True)\n",
    "for train_index,test_index in kf.split(X,y):\n",
    "    print('\\n{} of kfold {}'.format(i,kf.n_splits))\n",
    "    xtr,xvl = X.loc[train_index],X.loc[test_index]\n",
    "    ytr,yvl = y[train_index],y[test_index]\n",
    "\n",
    "    model = CatBoostClassifier(learning_rate=0.001,depth=10,l2_leaf_reg=1,n_estimators=1000)\n",
    "    model.fit(xtr, ytr)\n",
    "    pred_test = model.predict(xvl)\n",
    "    score = accuracy_score(yvl,pred_test)\n",
    "    mean_accuracy.append(score)\n",
    "    print('accuracy_score',score)\n",
    "    i+=1\n",
    "\n",
    "print(\"\\n CatBoost Mean validation accuracy: \", sum(mean_accuracy)/len(mean_accuracy))"
   ]
  }
 ],
 "metadata": {
  "kernelspec": {
   "display_name": "Python 3.9.7 64-bit",
   "language": "python",
   "name": "python3"
  },
  "language_info": {
   "codemirror_mode": {
    "name": "ipython",
    "version": 3
   },
   "file_extension": ".py",
   "mimetype": "text/x-python",
   "name": "python",
   "nbconvert_exporter": "python",
   "pygments_lexer": "ipython3",
   "version": "3.9.7"
  },
  "orig_nbformat": 4,
  "vscode": {
   "interpreter": {
    "hash": "a4df7a6600e22bae99e6e8f837be5af686fd7a404512ca9c2620376f38fe7d31"
   }
  }
 },
 "nbformat": 4,
 "nbformat_minor": 2
}
