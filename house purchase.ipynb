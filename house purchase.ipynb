{
 "cells": [
  {
   "cell_type": "code",
   "execution_count": null,
   "metadata": {},
   "outputs": [],
   "source": [
    "import numpy as np\n",
    "import pandas as pd\n",
    "import matplotlib.pyplot as plt\n",
    "import seaborn as sns\n",
    "import warnings\n",
    "warnings.filterwarnings('ignore')\n",
    "pd.set_option('display.max_columns',18)"
   ]
  },
  {
   "cell_type": "markdown",
   "metadata": {},
   "source": [
    "1.读入数据"
   ]
  },
  {
   "cell_type": "code",
   "execution_count": null,
   "metadata": {},
   "outputs": [],
   "source": [
    "#读入训练集数据\n",
    "train=pd.read_csv('case2_training.csv')\n",
    "train=train.copy()\n",
    "test = pd.read_csv(\"case2_testing.csv\")\n",
    "test=test.copy()\n",
    "train.head()"
   ]
  },
  {
   "cell_type": "markdown",
   "metadata": {},
   "source": [
    "2.描述性统计分析"
   ]
  },
  {
   "cell_type": "code",
   "execution_count": null,
   "metadata": {},
   "outputs": [],
   "source": [
    "train.shape, test.shape\n"
   ]
  },
  {
   "cell_type": "code",
   "execution_count": null,
   "metadata": {},
   "outputs": [],
   "source": [
    "train.columns, test.columns"
   ]
  },
  {
   "cell_type": "code",
   "execution_count": null,
   "metadata": {},
   "outputs": [],
   "source": [
    "train.dtypes"
   ]
  },
  {
   "cell_type": "code",
   "execution_count": null,
   "metadata": {},
   "outputs": [],
   "source": [
    "train.info()"
   ]
  },
  {
   "cell_type": "code",
   "execution_count": null,
   "metadata": {},
   "outputs": [],
   "source": [
    "train['Accept'].value_counts(normalize=True)"
   ]
  },
  {
   "cell_type": "code",
   "execution_count": null,
   "metadata": {},
   "outputs": [],
   "source": [
    "train['Accept'].value_counts().plot.bar()"
   ]
  },
  {
   "cell_type": "markdown",
   "metadata": {},
   "source": [
    "3.Independent Variable (Categorical)"
   ]
  },
  {
   "cell_type": "code",
   "execution_count": null,
   "metadata": {},
   "outputs": [],
   "source": [
    "# Visualizing categorical features\n",
    "# plt.figure(1)\n",
    "plt.subplot(231)\n",
    "train['Region'].value_counts(normalize=True).plot.bar(figsize=(20,10), title= 'Region')\n",
    "\n",
    "plt.subplot(232)\n",
    "train['Weekday'].value_counts(normalize=True).plot.bar(title= 'Weekday')\n",
    "\n",
    "plt.subplot(233)\n",
    "train['Apartment'].value_counts(normalize=True).plot.bar(title= 'Apartment')\n",
    "\n",
    "plt.subplot(234)\n",
    "train['Beds'].value_counts(normalize=True).plot.bar(title= 'Beds')\n",
    "\n",
    "plt.show()"
   ]
  },
  {
   "cell_type": "markdown",
   "metadata": {},
   "source": [
    "4.Independent Variable (Numerical)"
   ]
  },
  {
   "cell_type": "code",
   "execution_count": null,
   "metadata": {},
   "outputs": [],
   "source": [
    "plt.subplot(121)\n",
    "sns.distplot(train['Review']);\n",
    "\n",
    "plt.subplot(122)\n",
    "train['Review'].plot.box(figsize=(16,5))\n",
    "\n",
    "plt.show()"
   ]
  },
  {
   "cell_type": "code",
   "execution_count": null,
   "metadata": {},
   "outputs": [],
   "source": [
    "a = np.power(0.75,train['Pic Quality'])\n",
    "sns.distplot(a);"
   ]
  },
  {
   "cell_type": "markdown",
   "metadata": {},
   "source": [
    "log变换"
   ]
  },
  {
   "cell_type": "code",
   "execution_count": null,
   "metadata": {},
   "outputs": [],
   "source": [
    "# log transformation\n",
    "train['Review_log'] = np.log(train['Review'])\n",
    "test['Review_log'] = np.log(test['Review'])"
   ]
  },
  {
   "cell_type": "code",
   "execution_count": null,
   "metadata": {},
   "outputs": [],
   "source": [
    "fig = plt.figure(figsize=(14, 4))\n",
    "ax1 = plt.subplot(121)\n",
    "sns.distplot(train['Review_log'])\n",
    "ax1.set_title(\"Train\")\n",
    "\n",
    "ax1 = plt.subplot(122)\n",
    "sns.distplot(test['Review_log'])\n",
    "ax1.set_title(\"Test\")"
   ]
  },
  {
   "cell_type": "code",
   "execution_count": null,
   "metadata": {},
   "outputs": [],
   "source": [
    "from scipy import stats\n",
    "train['Review_box'],lambda_=stats.boxcox(train['Review'])\n",
    "fig=plt.figure(figsize=(15,5))\n",
    "#pic1\n",
    "plt.subplot(1,2,1)\n",
    "sns.distplot(train['Review'])"
   ]
  },
  {
   "cell_type": "code",
   "execution_count": null,
   "metadata": {},
   "outputs": [],
   "source": [
    "plt.subplot(121)\n",
    "sns.distplot(train['Pic Quality']);\n",
    "\n",
    "plt.subplot(122)\n",
    "train['Pic Quality'].plot.box(figsize=(16,5))\n",
    "\n",
    "plt.show()"
   ]
  },
  {
   "cell_type": "code",
   "execution_count": null,
   "metadata": {},
   "outputs": [],
   "source": [
    "from scipy import stats\n",
    "train['Pic Quality'],lambda_=stats.boxcox(train['Pic Quality'])\n",
    "fig=plt.figure(figsize=(15,5))\n",
    "#pic1\n",
    "plt.subplot(1,2,1)\n",
    "sns.distplot(train['Pic Quality'])"
   ]
  },
  {
   "cell_type": "code",
   "execution_count": null,
   "metadata": {},
   "outputs": [],
   "source": [
    "train.head()"
   ]
  },
  {
   "cell_type": "code",
   "execution_count": null,
   "metadata": {},
   "outputs": [],
   "source": [
    "plt.subplot(121)\n",
    "sns.distplot(train['Price']);\n",
    "\n",
    "plt.subplot(122)\n",
    "train['Price'].plot.box(figsize=(16,5))\n",
    "\n",
    "plt.show()"
   ]
  },
  {
   "cell_type": "markdown",
   "metadata": {},
   "source": [
    "box-cox变换"
   ]
  },
  {
   "cell_type": "code",
   "execution_count": null,
   "metadata": {},
   "outputs": [],
   "source": [
    "from scipy.stats import boxcox\n",
    "import matplotlib.pyplot as plt"
   ]
  },
  {
   "cell_type": "markdown",
   "metadata": {},
   "source": [
    "标准化'Price'变量"
   ]
  },
  {
   "cell_type": "code",
   "execution_count": null,
   "metadata": {},
   "outputs": [],
   "source": [
    "#标准化'Price'变量\n",
    "# train['normalized_price'] = (train['Price'] - train['Price'].mean()) / (train['Price'].std())\n",
    "# del train['Price']\n",
    "plt.subplot(121)\n",
    "sns.distplot(train['normalized_price']);\n",
    "plt.subplot(122)\n",
    "train['normalized_price'].plot.box(figsize=(16,5))\n",
    "plt.show()"
   ]
  },
  {
   "cell_type": "markdown",
   "metadata": {},
   "source": [
    "特征离散化"
   ]
  },
  {
   "cell_type": "code",
   "execution_count": null,
   "metadata": {},
   "outputs": [],
   "source": [
    "\n",
    "#删去‘ID’变量\n",
    "del train['ID']\n",
    "#把日期（365天）归类转化为季度（1,2,3,4季度）\n",
    "def assign_label(h):\n",
    "    if h >=0 and h < 92:\n",
    "        return 1\n",
    "    elif h >= 92 and h <183:\n",
    "        return 2\n",
    "    elif h >=183 and h <275 :\n",
    "        return 3\n",
    "    elif h >= 275 and h < 366:\n",
    "        return 4\n",
    "\n",
    "train[\"date_label\"] = train[\"Date\"].apply(assign_label)\n",
    "del train['Date']\n",
    "\n",
    "#将周日到周四归为类别1，周五和周六归为类别2\n",
    "def assign_week(h):\n",
    "    if h >=0 and h < 5 or h>=7:\n",
    "        return 1\n",
    "    elif h >= 5 and h <7:\n",
    "        return 2\n",
    "\n",
    "train[\"week_label\"] = train[\"Weekday\"].apply(assign_week)\n",
    "del train['Weekday']\n",
    "#将原训练集里代表类别的特征‘Region’虚拟化处理\n",
    "dum=pd.get_dummies(train['Region'],prefix=\"Region\")\n",
    "train=pd.concat([train,dum],axis=1)\n",
    "del train['Region']\n",
    "\n",
    "#转换后的transform_train留作给不同的算法使用\n",
    "transform_train=train\n",
    "\n",
    "#显示特征转换后的前五行\n",
    "print(train.head())\n"
   ]
  },
  {
   "cell_type": "code",
   "execution_count": null,
   "metadata": {},
   "outputs": [],
   "source": [
    "print(transform_train.head())"
   ]
  },
  {
   "cell_type": "markdown",
   "metadata": {},
   "source": [
    "用逻辑回归算法来训练模型"
   ]
  },
  {
   "cell_type": "code",
   "execution_count": null,
   "metadata": {},
   "outputs": [],
   "source": [
    "X = train.drop('Accept', 1)\n",
    "y = train.Accept\n",
    "# adding dummies to the dataset\n",
    "X = pd.get_dummies(X)\n",
    "train = pd.get_dummies(train)\n",
    "test = pd.get_dummies(test)\n",
    "print(X.shape, train.shape, test.shape)\n",
    "print(X.head())\n",
    "\n",
    "from sklearn.model_selection import train_test_split\n",
    "# split the data into train and cross validation set\n",
    "x_train, x_cv, y_train, y_cv = train_test_split(X, y, test_size=0.3, random_state=0)\n",
    "\n",
    "\n",
    "# take a look at the dimension of the data\n",
    "print(x_train.shape, x_cv.shape, y_train.shape, y_cv.shape)\n",
    "from sklearn.linear_model import LogisticRegression\n",
    "from sklearn.metrics import accuracy_score\n",
    "\n",
    "# 拟合模型\n",
    "penalty = {\n",
    "    0: 1,\n",
    "    1: 2.3\n",
    "}\n",
    "model = LogisticRegression(class_weight=penalty)\n",
    "model.fit(x_train, y_train)\n",
    "# 预测\n",
    "pred_cv = model.predict(x_cv)\n",
    "print('logistic预测准确率：',accuracy_score(y_cv, pred_cv))\n",
    "\n",
    "#输出混淆矩阵\n",
    "from sklearn.metrics import confusion_matrix\n",
    "\n",
    "cm = confusion_matrix(y_cv, pred_cv)\n",
    "print(cm)\n",
    "sns.heatmap(cm, annot=True, fmt=\"d\")\n",
    "plt.title('Confusion matrix of the classifier')\n",
    "plt.xlabel('Predicted')\n",
    "plt.ylabel('True')\n",
    "plt.show()\n",
    "\n",
    "from sklearn.metrics import classification_report\n",
    "print(classification_report(y_cv, pred_cv))"
   ]
  },
  {
   "cell_type": "markdown",
   "metadata": {},
   "source": [
    " k 折交叉验证的逻辑回归"
   ]
  },
  {
   "cell_type": "code",
   "execution_count": null,
   "metadata": {},
   "outputs": [],
   "source": [
    "from sklearn.model_selection import StratifiedKFold\n",
    "#k=5，且对数据的每个分层进行shuffle\n",
    "\n",
    "mean_accuracy = []\n",
    "i = 1\n",
    "kf = StratifiedKFold(n_splits=5, random_state=1, shuffle=True)\n",
    "\n",
    "for train_index, test_index in kf.split(X, y):\n",
    "    print('\\n{} of kfold {}'.format(i, kf.n_splits))\n",
    "    xtr, xvl = X.loc[train_index], X.loc[test_index]\n",
    "    ytr, yvl = y[train_index], y[test_index]\n",
    "\n",
    "    model1 = LogisticRegression(random_state=1)\n",
    "    model1.fit(xtr, ytr)\n",
    "    pred_test = model1.predict(xvl)\n",
    "    score = accuracy_score(yvl, pred_test)\n",
    "    mean_accuracy.append(score)\n",
    "    print('accuracy_score', score)\n",
    "    i+=1\n",
    "print(\"\\n LR Mean validation accuracy: \", sum(mean_accuracy)/len(mean_accuracy))"
   ]
  },
  {
   "cell_type": "markdown",
   "metadata": {},
   "source": [
    "使用决策树算法来训练训练集"
   ]
  },
  {
   "cell_type": "code",
   "execution_count": null,
   "metadata": {},
   "outputs": [],
   "source": [
    "from sklearn.tree import DecisionTreeClassifier\n",
    "from sklearn.model_selection import cross_val_predict\n",
    "\n",
    "train=transform_train\n",
    "\n",
    "#设置惩罚因子，我们加重惩罚错误预测为1的\n",
    "penalty = {\n",
    "    0: 1,\n",
    "    1: 2.3\n",
    "}\n",
    "mean_accuracy = []\n",
    "i=1\n",
    "kf = StratifiedKFold(n_splits=5,random_state=1,shuffle=True)\n",
    "for train_index,test_index in kf.split(X,y):\n",
    "    print('\\n{} of kfold {}'.format(i,kf.n_splits))\n",
    "    xtr,xvl = X.loc[train_index],X.loc[test_index]\n",
    "    ytr,yvl = y[train_index],y[test_index]\n",
    "    \n",
    "    model2 = DecisionTreeClassifier(random_state=1,class_weight=penalty)\n",
    "    model2.fit(xtr, ytr)\n",
    "    pred_test = model.predict(xvl)\n",
    "    score = accuracy_score(yvl,pred_test)\n",
    "    mean_accuracy.append(score)\n",
    "    print('accuracy_score',score)\n",
    "    i+=1\n",
    "    \n",
    "print(\"\\nMean validation accuracy: \", sum(mean_accuracy)/len(mean_accuracy))"
   ]
  },
  {
   "cell_type": "code",
   "execution_count": null,
   "metadata": {},
   "outputs": [],
   "source": []
  },
  {
   "cell_type": "markdown",
   "metadata": {},
   "source": [
    "catboost"
   ]
  },
  {
   "cell_type": "code",
   "execution_count": null,
   "metadata": {},
   "outputs": [],
   "source": [
    "from sklearn.model_selection import StratifiedKFold\n",
    "from catboost import CatBoostClassifier, Pool\n",
    "from sklearn.metrics import accuracy_score\n",
    "mean_accuracy = []\n",
    "i=1\n",
    "kf = StratifiedKFold(n_splits=5,random_state=1,shuffle=True)\n",
    "for train_index,test_index in kf.split(X,y):\n",
    "      print('\\n{} of kfold {}'.format(i,kf.n_splits))\n",
    "      xtr,xvl = X.loc[train_index],X.loc[test_index]\n",
    "      ytr,yvl = y[train_index],y[test_index]\n",
    "\n",
    "      model = CatBoostClassifier(learning_rate=0.03)\n",
    "      model.fit(xtr, ytr)\n",
    "      pred_test = model.predict(xvl)\n",
    "      score = accuracy_score(yvl,pred_test)\n",
    "      mean_accuracy.append(score)\n",
    "      print('accuracy_score',score)\n",
    "      i+=1\n",
    "\n",
    "print(\"\\n CatBoost Mean validation accuracy: \", sum(mean_accuracy)/len(mean_accuracy))"
   ]
  }
 ],
 "metadata": {
  "interpreter": {
   "hash": "f005f5e826343a05308ff839ff56770f8b3715834f88159cb42726a067d1bdc8"
  },
  "kernelspec": {
   "display_name": "Python 3.9.7 ('base')",
   "language": "python",
   "name": "python3"
  },
  "language_info": {
   "codemirror_mode": {
    "name": "ipython",
    "version": 3
   },
   "file_extension": ".py",
   "mimetype": "text/x-python",
   "name": "python",
   "nbconvert_exporter": "python",
   "pygments_lexer": "ipython3",
   "version": "3.9.7"
  },
  "orig_nbformat": 4
 },
 "nbformat": 4,
 "nbformat_minor": 2
}
