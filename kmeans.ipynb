{
 "cells": [
  {
   "cell_type": "code",
   "execution_count": 1,
   "metadata": {},
   "outputs": [],
   "source": [
    "import pandas as pd\n",
    "import numpy as np\n",
    "import matplotlib.pyplot as plt\n",
    "import plotly.express as px\n",
    "from datetime import datetime\n",
    "from IPython.core.interactiveshell import InteractiveShell\n",
    "InteractiveShell.ast_node_interactivity = \"all\""
   ]
  },
  {
   "cell_type": "code",
   "execution_count": null,
   "metadata": {},
   "outputs": [],
   "source": [
    "data=pd.read_csv('.csv')\n",
    "data.head()"
   ]
  },
  {
   "cell_type": "code",
   "execution_count": 2,
   "metadata": {},
   "outputs": [],
   "source": [
    "#设置默认参数\n",
    "pd.options.display.max_columns = 100\n",
    "pd.options.display.max_rows = 300\n",
    "pd.set_option('display.float_format', lambda x: '%.4f' % x)\n",
    "np.set_printoptions(precision=4,suppress=True)\n",
    "np.random.seed(12345)\n",
    "#设置中文字体\n",
    "plt.rcParams['font.sans-serif'] = ['SimHei']\n",
    "plt.rcParams['axes.unicode_minus'] = False\n",
    "plt.rcParams['figure.dpi'] =150\n",
    "plt.rc('figure',figsize=(10,6))"
   ]
  },
  {
   "cell_type": "code",
   "execution_count": null,
   "metadata": {},
   "outputs": [],
   "source": [
    "data.columns"
   ]
  },
  {
   "cell_type": "code",
   "execution_count": 4,
   "metadata": {},
   "outputs": [],
   "source": [
    "aa_start='2022-01-01'\n",
    "ab_start='2022-03-01'\n",
    "ab_end='2022-05-01'\n",
    "eval_list=['深圳市','武汉市','青岛市','福州市']\n",
    "eval_city='深圳市'"
   ]
  },
  {
   "cell_type": "code",
   "execution_count": null,
   "metadata": {},
   "outputs": [],
   "source": [
    "data1=data.loc[(data.dt>=aa_start)&(data.dt<=ab_end)].copy()\n",
    "data1.sort_values(by=['city_id','dt'],inplace=True)\n",
    "len(data1['城市名称'].unique())"
   ]
  },
  {
   "cell_type": "code",
   "execution_count": null,
   "metadata": {},
   "outputs": [],
   "source": [
    "data1.reset_index(drop=True,inplace=True)\n",
    "data1['dt']=pd.to_datetime(data1['dt'])\n",
    "data1['month']=data1['dt'].dt.month\n",
    "data1.head()"
   ]
  },
  {
   "cell_type": "code",
   "execution_count": null,
   "metadata": {},
   "outputs": [],
   "source": [
    "data1.isnull().sum()"
   ]
  },
  {
   "cell_type": "code",
   "execution_count": 5,
   "metadata": {},
   "outputs": [],
   "source": [
    "\n",
    "metrics=['city_level','a','b','c','d']"
   ]
  },
  {
   "cell_type": "code",
   "execution_count": null,
   "metadata": {},
   "outputs": [],
   "source": [
    "data1.replace('-',np.nan,inplace=True)\n",
    "data1.dropna(axis=0,how='any',inplace=True)"
   ]
  },
  {
   "cell_type": "code",
   "execution_count": null,
   "metadata": {},
   "outputs": [],
   "source": [
    "data1[metrics]=data1[metrics].astype('float')"
   ]
  },
  {
   "cell_type": "code",
   "execution_count": null,
   "metadata": {},
   "outputs": [],
   "source": [
    "cluster_data=data1[data1.dt<ab_start].groupby(['month','city_id'])[metrics].mean().reset_index()\n",
    "cluster_data.head()"
   ]
  },
  {
   "cell_type": "code",
   "execution_count": null,
   "metadata": {},
   "outputs": [],
   "source": [
    "# 建立数据透视表\n",
    "pivot_data = pd.pivot_table(cluster_data, index=['city_id'], columns=[\n",
    "                            'month'], values=metrics, aggfunc='sum')\n",
    "pivot_data.head()"
   ]
  },
  {
   "cell_type": "code",
   "execution_count": null,
   "metadata": {},
   "outputs": [],
   "source": [
    "from sklearn.preprocessing import StandardScaler\n",
    "from sklearn.decomposition import PCA\n",
    "features=pivot_data.fillna(0).values\n",
    "scaler=StandardScaler()\n",
    "scaler_features=scaler.fit_transform(features)"
   ]
  },
  {
   "cell_type": "code",
   "execution_count": null,
   "metadata": {},
   "outputs": [],
   "source": [
    "scaler_features"
   ]
  },
  {
   "cell_type": "code",
   "execution_count": null,
   "metadata": {},
   "outputs": [],
   "source": [
    "scaler_features.shape"
   ]
  },
  {
   "cell_type": "code",
   "execution_count": null,
   "metadata": {},
   "outputs": [],
   "source": [
    "pca=PCA()\n",
    "pca.fit(scaler_features)"
   ]
  },
  {
   "cell_type": "code",
   "execution_count": null,
   "metadata": {},
   "outputs": [],
   "source": [
    "pca.explained_variance_ratio_"
   ]
  },
  {
   "cell_type": "code",
   "execution_count": null,
   "metadata": {},
   "outputs": [],
   "source": [
    "# 绘制主成分个数与累计方差百分比的关系\n",
    "plt.figure(figsize=(10, 6))\n",
    "plt.plot(range(1, len(pca.explained_variance_ratio_)+1),\n",
    "         np.cumsum(pca.explained_variance_ratio_), 'ro-')\n"
   ]
  },
  {
   "cell_type": "code",
   "execution_count": null,
   "metadata": {},
   "outputs": [],
   "source": [
    "pca=PCA(n_components=6)\n",
    "pca.fit(scaler_features)\n",
    "pca_features=pca.transform(scaler_features)"
   ]
  },
  {
   "cell_type": "code",
   "execution_count": null,
   "metadata": {},
   "outputs": [],
   "source": [
    "\n",
    "from sklearn.cluster import KMeans\n",
    "kmeans_kwargs = {'init': 'random', 'n_init': 10,\n",
    "                 'max_iter': 300, 'random_state': 42}\n",
    "sse = {}\n",
    "for k in range(1, 11):\n",
    "    kmeans = KMeans(n_clusters=k, **kmeans_kwargs)\n",
    "    kmeans.fit(pca_features)\n",
    "    sse[k] = kmeans.inertia_\n",
    "plt.figure(figsize=(10, 6))\n",
    "plt.plot(list(sse.keys()), list(sse.values()))\n",
    "plt.xlabel('number of clusters')\n",
    "plt.ylabel('SSE')\n",
    "plt.show()\n"
   ]
  },
  {
   "cell_type": "code",
   "execution_count": null,
   "metadata": {},
   "outputs": [],
   "source": [
    "kmeans=KMeans(init='random',n_clusters=4,n_init=10,max_iter=300,random_state=42)\n",
    "kmeans.fit(pca_features)"
   ]
  },
  {
   "cell_type": "code",
   "execution_count": null,
   "metadata": {},
   "outputs": [],
   "source": [
    "pivot_data['cluster']=kmeans.labels_\n",
    "cluster_res=pivot_data.reset_index()[['city_id','cluster']]\n",
    "cluster_res.loc[cluster_res['城市名称']==eval_city]\n",
    "cluster_res.groupby('cluster').size()\n",
    "cluster_res"
   ]
  },
  {
   "cell_type": "code",
   "execution_count": null,
   "metadata": {},
   "outputs": [],
   "source": [
    "cluster_res.loc[cluster_res['cluster']==2].values"
   ]
  },
  {
   "cell_type": "code",
   "execution_count": null,
   "metadata": {},
   "outputs": [],
   "source": [
    "# 合成控制\n",
    "from DiDiSCM import SyntheticControlMethod\n",
    "synth1 = SyntheticControlMethod(data=df, outcome='pinle_callnum', unit='city_id',\n",
    "                                time='dt', treated_units=160, treated_time=datetime.strptime('ab_start', '%Y-%m-%d'))\n",
    "inverted = synth1.data_prep(\n",
    "    precictors=['pinle_callnum', 'pinle_subsidyb', 'pinle_subsidyc', 'driver_num'])\n",
    "inverted.head()\n"
   ]
  },
  {
   "cell_type": "code",
   "execution_count": null,
   "metadata": {},
   "outputs": [],
   "source": [
    "synth1.get_treatment_effect(lasso=True,save_result=True)\n"
   ]
  },
  {
   "cell_type": "code",
   "execution_count": null,
   "metadata": {},
   "outputs": [],
   "source": [
    "synth1.check_significance(poor_fit_included=True)\n",
    "a1=synth1.effect[synth1.effect.after_treatment==1].mean()\n",
    "a1\n",
    "a1.effect/a1.synthectic*100\n",
    "synth1.effect[synth1.effect.after_treatment].sum()"
   ]
  },
  {
   "cell_type": "code",
   "execution_count": null,
   "metadata": {},
   "outputs": [],
   "source": [
    "\n",
    "synth2 = SyntheticControlMethod(data=df, outcome='pinle_finishnum', unit='city_id',\n",
    "                                time='dt', treated_units=160, treated_time=datetime.strptime('ab_start', '%Y-%m-%d'))\n",
    "inverted = synth2.data_prep(\n",
    "    precictors=['pinle_finishnum', 'pinle_subsidyb', 'pinle_subsidyc', 'driver_num'])\n",
    "inverted.head()\n"
   ]
  },
  {
   "cell_type": "code",
   "execution_count": null,
   "metadata": {},
   "outputs": [],
   "source": [
    "synth2.get_treatment_effect(lasso=True,save_result=True)"
   ]
  },
  {
   "cell_type": "code",
   "execution_count": null,
   "metadata": {},
   "outputs": [],
   "source": [
    "synth2.check_significance(poor_fit_included=True)"
   ]
  },
  {
   "cell_type": "code",
   "execution_count": null,
   "metadata": {},
   "outputs": [],
   "source": [
    "synth2.rank.head()"
   ]
  },
  {
   "cell_type": "code",
   "execution_count": null,
   "metadata": {},
   "outputs": [],
   "source": [
    "a2=synth2.effect[synth2.effect.after_treatment==1].mean()\n",
    "a2\n",
    "a2.effect/a2.synthectic*100\n",
    "synth2.effect[synth2.effect.after_treatment].sum()"
   ]
  },
  {
   "cell_type": "code",
   "execution_count": null,
   "metadata": {},
   "outputs": [],
   "source": []
  }
 ],
 "metadata": {
  "kernelspec": {
   "display_name": "Python 3.8.13 ('causalml')",
   "language": "python",
   "name": "python3"
  },
  "language_info": {
   "codemirror_mode": {
    "name": "ipython",
    "version": 3
   },
   "file_extension": ".py",
   "mimetype": "text/x-python",
   "name": "python",
   "nbconvert_exporter": "python",
   "pygments_lexer": "ipython3",
   "version": "3.8.13"
  },
  "orig_nbformat": 4,
  "vscode": {
   "interpreter": {
    "hash": "78eaaa6bbb4df839215e136189f7bbecac9d3d5b0896ea75db1ae2c8098ac183"
   }
  }
 },
 "nbformat": 4,
 "nbformat_minor": 2
}
