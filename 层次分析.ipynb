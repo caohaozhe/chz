{
 "cells": [
  {
   "cell_type": "code",
   "execution_count": 1,
   "metadata": {},
   "outputs": [],
   "source": [
    "import numpy as np\n",
    "import pandas as pd\n",
    "import matplotlib.pyplot as plt\n",
    "import seaborn as sns\n"
   ]
  },
  {
   "cell_type": "code",
   "execution_count": null,
   "metadata": {},
   "outputs": [],
   "source": [
    "#评分矩阵\n",
    "A_arr=[[1,3,7,5,9],[1/3,1,5,3,7],[1/7,1/5,1,1/3,5],[1/5,1/3,3,1,3],[1/9,1/7,1/5,1/3,1]]"
   ]
  },
  {
   "cell_type": "code",
   "execution_count": null,
   "metadata": {},
   "outputs": [],
   "source": [
    "def get_weight(A_arr):\n",
    "    \"\"\"计算权重\"\"\"\n",
    "    #矩阵\n",
    "    A=np.array(A_arr)\n",
    "    #按列归一化\n",
    "    B=A/A.sum(axis=0)\n",
    "    print(\"归一化矩阵：\\n\",B)\n",
    "    b_sum=B.sum(axis=1)\n",
    "    print(\"归一化矩阵每行之和：\\n\",b_sum)\n",
    "    #权重\n",
    "    W=b_sum.sum()\n",
    "    w_arr=[]\n",
    "    for w in b_sum:\n",
    "        w_arr.append(w/W)\n",
    "    print(\"权重：\\n\",w_arr)\n",
    "    AW=[]\n",
    "    for a in A:\n",
    "        aa=a*w_arr\n",
    "        AW.append(aa.sum())\n",
    "    print(\"AW：\\n\",AW)\n",
    "    result=np.array(AW)/np.array(w_arr)\n",
    "    print(\"最终结果：\\n\",result)\n",
    "    row=result.shape[0]\n",
    "    max=result.sum()/row\n",
    "    print(\"λMax：\\n\",max)\n",
    "    CI=(max-row)/(row-1)\n",
    "\n",
    "    print(\"CI：\\n\",CI)\n",
    "    "
   ]
  }
 ],
 "metadata": {
  "kernelspec": {
   "display_name": "Python 3.9.7 ('base')",
   "language": "python",
   "name": "python3"
  },
  "language_info": {
   "codemirror_mode": {
    "name": "ipython",
    "version": 3
   },
   "file_extension": ".py",
   "mimetype": "text/x-python",
   "name": "python",
   "nbconvert_exporter": "python",
   "pygments_lexer": "ipython3",
   "version": "3.9.7"
  },
  "orig_nbformat": 4,
  "vscode": {
   "interpreter": {
    "hash": "a4df7a6600e22bae99e6e8f837be5af686fd7a404512ca9c2620376f38fe7d31"
   }
  }
 },
 "nbformat": 4,
 "nbformat_minor": 2
}
