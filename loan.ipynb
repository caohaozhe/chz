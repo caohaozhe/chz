{
 "cells": [
  {
   "cell_type": "code",
   "execution_count": null,
   "metadata": {},
   "outputs": [],
   "source": [
    "import numpy as np\n",
    "import pandas as pd\n",
    "import matplotlib.pyplot as plt\n",
    "import seaborn as sns\n",
    "import warnings\n",
    "warnings.filterwarnings(\"ignore\")\n",
    "#读训练集、测试集\n",
    "train = pd.read_csv(\"train.csv\")\n",
    "test = pd.read_csv(\"test.csv\")\n",
    "pd.set_option('display.max_columns',10)\n",
    "#-------------------------------数据预处理------------------------------------\n",
    "\n",
    "#拷贝原始数据\n",
    "# 这样即使我们必须对这些数据集进行任何更改，我们也不会丢失原始数据集\n",
    "\n",
    "train_original = train.copy()\n",
    "test_original = test.copy()"
   ]
  },
  {
   "cell_type": "code",
   "execution_count": null,
   "metadata": {},
   "outputs": [],
   "source": [
    "\n",
    "#  3+ 替换为3\n",
    "train['Dependents'].replace('3+', 3, inplace=True)\n",
    "test['Dependents'].replace('3+', 3, inplace=True)\n",
    "\n",
    "# y=1,n=0\n",
    "train['Loan_Status'].replace('N', 0, inplace=True)\n",
    "train['Loan_Status'].replace('Y', 1, inplace=True)\n",
    "\n",
    "# 检查下\n",
    "print(train.head())"
   ]
  },
  {
   "cell_type": "code",
   "execution_count": null,
   "metadata": {},
   "outputs": [],
   "source": [
    "\n",
    "#--------------------------------数据预处理------------------------------------\n",
    "#----------------------------------缺失值插补-------------------------\n",
    "print(train.isnull().sum())\n",
    "\n",
    "# mode 填补\n",
    "train['Gender'].fillna(train['Gender'].mode()[0], inplace=True)\n",
    "train['Married'].fillna(train['Married'].mode()[0], inplace=True)\n",
    "train['Dependents'].fillna(train['Dependents'].mode()[0], inplace=True)\n",
    "train['Self_Employed'].fillna(train['Self_Employed'].mode()[0], inplace=True)\n",
    "train['Credit_History'].fillna(train['Credit_History'].mode()[0], inplace=True)\n",
    "train['Loan_Amount_Term'].fillna(train['Loan_Amount_Term'].mode()[0], inplace=True)\n",
    "# 连续型用中位数填补\n",
    "train['LoanAmount'].fillna(train['LoanAmount'].median(), inplace=True)\n",
    "# 看看\n",
    "print(train.isnull().sum())\n",
    "# replace missing values in Test set with mode/median from Training set\n",
    "test['Gender'].fillna(train['Gender'].mode()[0], inplace=True)\n",
    "test['Dependents'].fillna(train['Dependents'].mode()[0], inplace=True)\n",
    "test['Self_Employed'].fillna(train['Self_Employed'].mode()[0], inplace=True)\n",
    "test['Credit_History'].fillna(train['Credit_History'].mode()[0], inplace=True)\n",
    "test['Loan_Amount_Term'].fillna(train['Loan_Amount_Term'].mode()[0], inplace=True)\n",
    "test['LoanAmount'].fillna(train['LoanAmount'].median(), inplace=True)\n",
    "\n",
    "# log变换\n",
    "train['LoanAmount_log'] = np.log(train['LoanAmount'])\n",
    "test['LoanAmount_log'] = np.log(test['LoanAmount'])\n",
    "# after log transformation\n",
    "\n",
    "ax1 = plt.subplot(121)\n",
    "train['LoanAmount_log'].hist(bins=20, figsize=(12,4))\n",
    "ax1.set_title(\"Train\")\n",
    "\n",
    "ax2 = plt.subplot(122)\n",
    "test['LoanAmount_log'].hist(bins=20)\n",
    "ax2.set_title(\"Test\")\n",
    "plt.show()\n"
   ]
  },
  {
   "cell_type": "code",
   "execution_count": null,
   "metadata": {},
   "outputs": [],
   "source": [
    "\n",
    "# 删除 Loan_ID 没啥用\n",
    "train = train.drop('Loan_ID', axis=1)\n",
    "test = test.drop('Loan_ID', axis=1)\n",
    "# Sklearn 需要单独数据集中的目标变量。 因此，从训练数据集中删除目标变量并将其保存在另一个数据集中。\n",
    "X = train.drop('Loan_Status', 1)\n",
    "y = train.Loan_Status\n",
    "# adding dummies to the dataset\n",
    "X = pd.get_dummies(X)\n",
    "train = pd.get_dummies(train)\n",
    "test = pd.get_dummies(test)\n",
    "print(X.shape, train.shape, test.shape)\n",
    "print(X.head())\n",
    "\n",
    "from sklearn.model_selection import train_test_split\n",
    "# split the data into train and cross validation set\n",
    "x_train, x_cv, y_train, y_cv = train_test_split(X, y, test_size=0.3, random_state=0)\n"
   ]
  },
  {
   "cell_type": "code",
   "execution_count": null,
   "metadata": {},
   "outputs": [],
   "source": [
    "from sklearn.model_selection import StratifiedKFold\n",
    "from catboost import CatBoostClassifier, Pool\n",
    "from sklearn.metrics import accuracy_score\n",
    "mean_accuracy = []\n",
    "i=1\n",
    "kf = StratifiedKFold(n_splits=5,random_state=1,shuffle=True)\n",
    "for train_index,test_index in kf.split(X,y):\n",
    "      print('\\n{} of kfold {}'.format(i,kf.n_splits))\n",
    "      xtr,xvl = X.loc[train_index],X.loc[test_index]\n",
    "      ytr,yvl = y[train_index],y[test_index]\n",
    "\n",
    "      model = CatBoostClassifier(learning_rate=0.03)\n",
    "      model.fit(xtr, ytr)\n",
    "      pred_test = model.predict(xvl)\n",
    "      score = accuracy_score(yvl,pred_test)\n",
    "      mean_accuracy.append(score)\n",
    "      print('accuracy_score',score)\n",
    "      i+=1\n",
    "\n",
    "print(\"\\n CatBoost Mean validation accuracy: \", sum(mean_accuracy)/len(mean_accuracy))"
   ]
  },
  {
   "cell_type": "code",
   "execution_count": null,
   "metadata": {},
   "outputs": [],
   "source": [
    "x_train, x_cv, y_train, y_cv = train_test_split(X, y, test_size =0.3, random_state=1)\n",
    "# grid_search2.fit(x_train, y_train)\n",
    "\n",
    "model = CatBoostClassifier()\n",
    "\n",
    "grid = {'learning_rate': [0.001,0.005,0.01,0.03],\n",
    "        'depth': [4, 6, 8,10],\n",
    "        'l2_leaf_reg': [1, 3],\n",
    "        'iterations':[400,600,800,1000,2000]}\n",
    "\n",
    "randomized_search_result = model.randomized_search(grid,\n",
    "                                                   X=x_train,\n",
    "                                                   y=y_train,\n",
    "                                                   plot=True)\n"
   ]
  },
  {
   "cell_type": "markdown",
   "metadata": {},
   "source": [
    "网格搜索"
   ]
  },
  {
   "cell_type": "code",
   "execution_count": null,
   "metadata": {},
   "outputs": [],
   "source": [
    "model = CatBoostClassifier(loss_function='Logloss')\n",
    "\n",
    "grid = {'learning_rate': [0.001,0.005,0.01,0.03],\n",
    "        'depth': [4, 6, 8,10],\n",
    "        'l2_leaf_reg': [1, 3],\n",
    "        'iterations':[400,600,800,1000,2000]}\n",
    "\n",
    "\n",
    "grid_search_result = model.grid_search(grid,\n",
    "                                       X=x_train,\n",
    "                                       y=y_train,\n",
    "                                       plot=True)"
   ]
  },
  {
   "cell_type": "code",
   "execution_count": null,
   "metadata": {},
   "outputs": [],
   "source": [
    "from sklearn.model_selection import StratifiedKFold\n",
    "from catboost import CatBoostClassifier, Pool\n",
    "from sklearn.metrics import accuracy_score\n",
    "mean_accuracy = []\n",
    "i=1\n",
    "kf = StratifiedKFold(n_splits=5,random_state=1,shuffle=True)\n",
    "for train_index,test_index in kf.split(X,y):\n",
    "      print('\\n{} of kfold {}'.format(i,kf.n_splits))\n",
    "      xtr,xvl = X.loc[train_index],X.loc[test_index]\n",
    "      ytr,yvl = y[train_index],y[test_index]\n",
    "\n",
    "      model = CatBoostClassifier(iterations=1000,learning_rate=0.001,depth=10,l2_leaf_reg=1)\n",
    "     \n",
    "      model.fit(xtr, ytr)\n",
    "      pred_test = model.predict(xvl)\n",
    "      score = accuracy_score(yvl,pred_test)\n",
    "      mean_accuracy.append(score)\n",
    "      print('accuracy_score',score)\n",
    "      i+=1\n",
    "\n",
    "print(\"\\n CatBoost Mean validation accuracy: \", sum(mean_accuracy)/len(mean_accuracy))"
   ]
  },
  {
   "cell_type": "code",
   "execution_count": null,
   "metadata": {},
   "outputs": [],
   "source": [
    "cat=CatBoostClassifier(iterations=1000,learning_rate=0.001,l2_leaf_reg=1,depth=10)\n",
    "cat.fit(x_train,y_train)\n",
    "fea_ = cat.feature_importances_\n",
    "fea_name = cat.feature_names_\n",
    "#sns.barplot(cat.feature_importances_,)\n",
    "print(fea_)\n"
   ]
  },
  {
   "cell_type": "code",
   "execution_count": null,
   "metadata": {},
   "outputs": [],
   "source": [
    "print(fea_name)"
   ]
  },
  {
   "cell_type": "code",
   "execution_count": null,
   "metadata": {},
   "outputs": [],
   "source": [
    "\n",
    "plt.figure(figsize=(16, 9))\n",
    "plt.title('catboost算法计算出的与贷款相关特征重要性')\n",
    "plt.barh(fea_name,fea_,height =0.5)"
   ]
  },
  {
   "cell_type": "code",
   "execution_count": null,
   "metadata": {},
   "outputs": [],
   "source": [
    "model = CatBoostClassifier(loss_function='Logloss',task_type='GPU')\n",
    "\n",
    "grid = {'learning_rate': [0.001,0.005,0.01,0.03],\n",
    "        'depth': [4, 6, 8,10],\n",
    "        'l2_leaf_reg': [1, 3],\n",
    "        'iterations':[400,600,800,1000,2000]}\n",
    "\n",
    "\n",
    "grid_search_result = model.grid_search(grid,\n",
    "                                       X=x_train,\n",
    "                                       y=y_train,\n",
    "                                       plot=True\n",
    "                                       )"
   ]
  },
  {
   "cell_type": "code",
   "execution_count": null,
   "metadata": {},
   "outputs": [],
   "source": [
    "grid_search_result"
   ]
  },
  {
   "cell_type": "code",
   "execution_count": null,
   "metadata": {},
   "outputs": [],
   "source": [
    "from sklearn.model_selection import StratifiedKFold\n",
    "from catboost import CatBoostClassifier, Pool\n",
    "from sklearn.metrics import accuracy_score\n",
    "mean_accuracy = []\n",
    "i=1\n",
    "kf = StratifiedKFold(n_splits=5,random_state=1,shuffle=True)\n",
    "for train_index,test_index in kf.split(X,y):\n",
    "      print('\\n{} of kfold {}'.format(i,kf.n_splits))\n",
    "      xtr,xvl = X.loc[train_index],X.loc[test_index]\n",
    "      ytr,yvl = y[train_index],y[test_index]\n",
    "\n",
    "      model = CatBoostClassifier(iterations=400,learning_rate=0.01,depth=10,l2_leaf_reg=3)\n",
    "     \n",
    "      model.fit(xtr, ytr)\n",
    "      pred_test = model.predict(xvl)\n",
    "      score = accuracy_score(yvl,pred_test)\n",
    "      mean_accuracy.append(score)\n",
    "      print('accuracy_score',score)\n",
    "      i+=1\n",
    "\n",
    "print(\"\\n CatBoost Mean validation accuracy: \", sum(mean_accuracy)/len(mean_accuracy))"
   ]
  }
 ],
 "metadata": {
  "interpreter": {
   "hash": "d12a6980af1de3549060b7b451d48d445ec6b4aaeaf0b0e12a509d2182e95745"
  },
  "kernelspec": {
   "display_name": "Python 3.9.7 ('base')",
   "language": "python",
   "name": "python3"
  },
  "language_info": {
   "codemirror_mode": {
    "name": "ipython",
    "version": 3
   },
   "file_extension": ".py",
   "mimetype": "text/x-python",
   "name": "python",
   "nbconvert_exporter": "python",
   "pygments_lexer": "ipython3",
   "version": "3.9.7"
  },
  "orig_nbformat": 4
 },
 "nbformat": 4,
 "nbformat_minor": 2
}
